{
 "cells": [
  {
   "cell_type": "code",
   "execution_count": null,
   "metadata": {
    "collapsed": true
   },
   "outputs": [],
   "source": [
    "# Full Article for Kmeans\n",
    "# Loading data\n",
    "\n",
    "import os , sys\n",
    "\n",
    "doc = '/'.join('E:\\patent_test\\dbscan_test\\dbscan_160\\FullArticle'.split('\\\\'))\n",
    "\n",
    "corpus = [open(os.path.join(doc,f),encoding = 'utf-8' , mode = 'r').read() for f in os.listdir(doc)]\n",
    "dic_corpus={}\n",
    "for f in os.listdir(doc):\n",
    "    if f not in dic_corpus:\n",
    "        dic_corpus[f[0:9]] = open(os.path.join(doc,f),encoding = 'utf-8' , mode = 'r').read()\n",
    "print(len(corpus))"
   ]
  },
  {
   "cell_type": "code",
   "execution_count": null,
   "metadata": {
    "collapsed": true
   },
   "outputs": [],
   "source": [
    "# Bulid Vectorizer & Trun words to vector\n",
    "\n",
    "from sklearn.feature_extraction.text import TfidfVectorizer\n",
    "\n",
    "stop_words = [word.strip() for word in open('E:/patent_test/final_dict/stopwords_withoutEnglish_Final.txt',encoding='utf-8',mode='r').readlines()]\n",
    "\n",
    "print(\"TfidfVectorizer Time:\")\n",
    "%time tfidf_vectorizer = TfidfVectorizer(stop_words = stop_words , use_idf = True)\n",
    "\n",
    "print(\"fit_transform Time:\")\n",
    "%time X_tfidf_useidfT = tfidf_vectorizer.fit_transform(corpus)\n",
    "\n",
    "weight = X_tfidf.toarray()\n",
    "\n",
    "print(\"get_feature_names Time:\")\n",
    "%time words = tfidf_vectorizer.get_feature_names()\n",
    "\n",
    "print (X_tfidf_useidfT.shape)"
   ]
  },
  {
   "cell_type": "code",
   "execution_count": null,
   "metadata": {
    "collapsed": true
   },
   "outputs": [],
   "source": [
    "print(X_tfidf.toarray())"
   ]
  },
  {
   "cell_type": "code",
   "execution_count": null,
   "metadata": {
    "collapsed": true
   },
   "outputs": [],
   "source": [
    "# Put into Pandas\n",
    "import pandas as pd\n",
    "\n",
    "patent_id = [ele.strip().split('_')[0] for ele in open('E:/patent_test/dbscan_test/dbscan_160/IPC_Number.txt',encoding = 'utf-8' , mode='r').readlines()]\n",
    "patent_IPC = [ele.strip().split('_')[1] for ele in open('E:/patent_test/dbscan_test/dbscan_160/IPC_Number.txt',encoding = 'utf-8' , mode='r').readlines()]\n",
    "synopsis = [ele.split('\\n')[0] for ele in corpus]\n",
    "\n",
    "patent = {'clusters':labels , 'Patent_id':patent_id , 'Patent_IPC':patent_IPC , 'Synopsis':synopsis }\n",
    "\n",
    "frame = pd.DataFrame(patent , index = [labels] , columns=['clusters','Patent_id','Patent_IPC','Synopsis']).sort()\n",
    "frame.ix[4]"
   ]
  },
  {
   "cell_type": "code",
   "execution_count": null,
   "metadata": {
    "collapsed": true
   },
   "outputs": [],
   "source": [
    "# Show the cluster's article & keywords:\n",
    "\n",
    "import os , sys\n",
    "\n",
    "cluster = 5\n",
    "\n",
    "doc = '/'.join('E:\\patent_test\\dbscan_test\\dbscan_160\\FullArticle'.split('\\\\'))\n",
    "\n",
    "for i in range(cluster):\n",
    "    \n",
    "    corpus_cluster = [dic_corpus[key] for key in frame.ix[i][\"Patent_id\"].values]\n",
    "\n",
    "    tfidf_vectorizer_cluster = TfidfVectorizer(min_df=0.2,stop_words = stop_words)\n",
    "    X_tfidf_cluster = tfidf_vectorizer_cluster.fit_transform(corpus_cluster)\n",
    "    words = tfidf_vectorizer_cluster.get_feature_names()\n",
    "    print (\"Cluster:\" + str(i))\n",
    "    print (X_tfidf_cluster.shape)\n",
    "    print (words)\n",
    "    print('='*130)"
   ]
  }
 ],
 "metadata": {
  "kernelspec": {
   "display_name": "Python 2",
   "language": "python",
   "name": "python2"
  },
  "language_info": {
   "codemirror_mode": {
    "name": "ipython",
    "version": 2
   },
   "file_extension": ".py",
   "mimetype": "text/x-python",
   "name": "python",
   "nbconvert_exporter": "python",
   "pygments_lexer": "ipython2",
   "version": "2.7.10"
  }
 },
 "nbformat": 4,
 "nbformat_minor": 0
}
