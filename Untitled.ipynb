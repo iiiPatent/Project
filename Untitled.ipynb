{
 "cells": [
  {
   "cell_type": "code",
   "execution_count": 5,
   "metadata": {
    "collapsed": false
   },
   "outputs": [
    {
     "name": "stdout",
     "output_type": "stream",
     "text": [
      "﻿<?xml version=\"1.0\" encoding=\"UTF-8\"?>\r\n",
      "\r\n",
      "<?xml-stylesheet type=\"text/xsl\" href=\"dc.xsl\"?>\r\n",
      "<design-specification application-num=\"103306232\" dtd-version=\"1.0.0\" lang=\"tw\" produced-by=\"applicant\" receive-date=\" \" receive-num=\"1032062973-0\" status=\"p\"><description><design-title lang=\"tw\">機車</design-title>\r\n",
      "<main-use><p general=\"0001\" id=\"_00001\">本物品係機車。</p>\r\n",
      "</main-use>\r\n",
      "<description-of-drawings><p general=\"0002\" id=\"_00002\">本設計係新穎獨特之樣式，藉由獨特地設計機車，可顯出先前技藝所未有之視覺效果。</p>\r\n",
      "<p general=\"0003\" id=\"_00003\">仰視圖為普通消費者於選購時或使用時不會注意之視面，故省略之。</p>\r\n",
      "<p general=\"0004\" id=\"_00004\">圖式所呈現之色彩屬本設計不主張之部分。</p>\r\n",
      "</description-of-drawings>\r\n",
      "</description>\r\n",
      "<drawings lang=\"tw\"><figure figure-labels=\"立體圖1 (代表圖)\"><img alt=\"\" file=\"img-2/draw/103306232-a0101-14-0001-1.jpg\" he=\"1077\" id=\"i0001\" img-content=\"drawing\" img-format=\"gif\" inline=\"no\" orientation=\"portrait\" wi=\"0900\"/></figure>\r\n",
      "<figure figure-labels=\"立體圖2\"><img alt=\"\" file=\"img-2/draw/103306232-a0101-14-0002-2.jpg\" he=\"0880\" id=\"i0002\" img-content=\"drawing\" img-format=\"gif\" inline=\"no\" orientation=\"portrait\" wi=\"0900\"/></figure>\r\n",
      "<figure figure-labels=\"前視圖\"><img alt=\"\" file=\"img-2/draw/103306232-a0101-14-0003-3.jpg\" he=\"1694\" id=\"i0003\" img-content=\"drawing\" img-format=\"gif\" inline=\"no\" orientation=\"portrait\" wi=\"0900\"/></figure>\r\n",
      "<figure figure-labels=\"後視圖\"><img alt=\"\" file=\"img-2/draw/103306232-a0101-14-0004-4.jpg\" he=\"1494\" id=\"i0004\" img-content=\"drawing\" img-format=\"gif\" inline=\"no\" orientation=\"portrait\" wi=\"0900\"/></figure>\r\n",
      "<figure figure-labels=\"左側視圖\"><img alt=\"\" file=\"img-2/draw/103306232-a0101-14-0005-5.jpg\" he=\"0741\" id=\"i0005\" img-content=\"drawing\" img-format=\"gif\" inline=\"no\" orientation=\"portrait\" wi=\"0900\"/></figure>\r\n",
      "<figure figure-labels=\"右側視圖\"><img alt=\"\" file=\"img-2/draw/103306232-a0101-14-0006-6.jpg\" he=\"0715\" id=\"i0006\" img-content=\"drawing\" img-format=\"gif\" inline=\"no\" orientation=\"portrait\" wi=\"0900\"/></figure>\r\n",
      "<figure figure-labels=\"俯視圖\"><img alt=\"\" file=\"img-2/draw/103306232-a0101-14-0007-7.jpg\" he=\"1915\" id=\"i0007\" img-content=\"drawing\" img-format=\"gif\" inline=\"no\" orientation=\"portrait\" wi=\"0900\"/></figure>\r\n",
      "</drawings>\r\n",
      "</design-specification>\n"
     ]
    }
   ],
   "source": [
    "#From data file import *.xml and paser  \n",
    "\n",
    "import requests\n",
    "import os\n",
    "import sys\n",
    "#sys.path.append('../')\n",
    "\n",
    "import jieba\n",
    "import jieba.analyse\n",
    "from optparse import OptionParser\n",
    "import operator\n",
    "from bs4 import BeautifulSoup as bs\n",
    "f = open('./103306232_NewModel.xml', 'rb')\n",
    "response_text = f.read()\n",
    "f.close()\n",
    "\n",
    "print response_text"
   ]
  },
  {
   "cell_type": "code",
   "execution_count": 6,
   "metadata": {
    "collapsed": false
   },
   "outputs": [
    {
     "name": "stdout",
     "output_type": "stream",
     "text": [
      "<html><body><design-specification application-num=\"103306232\" dtd-version=\"1.0.0\" lang=\"tw\" produced-by=\"applicant\" receive-date=\" \" receive-num=\"1032062973-0\" status=\"p\"><description><design-title lang=\"tw\">機車</design-title>\n",
      "<main-use><p general=\"0001\" id=\"_00001\">本物品係機車。</p>\n",
      "</main-use>\n",
      "<description-of-drawings><p general=\"0002\" id=\"_00002\">本設計係新穎獨特之樣式，藉由獨特地設計機車，可顯出先前技藝所未有之視覺效果。</p>\n",
      "<p general=\"0003\" id=\"_00003\">仰視圖為普通消費者於選購時或使用時不會注意之視面，故省略之。</p>\n",
      "<p general=\"0004\" id=\"_00004\">圖式所呈現之色彩屬本設計不主張之部分。</p>\n",
      "</description-of-drawings>\n",
      "</description>\n",
      "<drawings lang=\"tw\"><figure figure-labels=\"立體圖1 (代表圖)\"><img alt=\"\" file=\"img-2/draw/103306232-a0101-14-0001-1.jpg\" he=\"1077\" id=\"i0001\" img-content=\"drawing\" img-format=\"gif\" inline=\"no\" orientation=\"portrait\" wi=\"0900\"/></figure>\n",
      "<figure figure-labels=\"立體圖2\"><img alt=\"\" file=\"img-2/draw/103306232-a0101-14-0002-2.jpg\" he=\"0880\" id=\"i0002\" img-content=\"drawing\" img-format=\"gif\" inline=\"no\" orientation=\"portrait\" wi=\"0900\"/></figure>\n",
      "<figure figure-labels=\"前視圖\"><img alt=\"\" file=\"img-2/draw/103306232-a0101-14-0003-3.jpg\" he=\"1694\" id=\"i0003\" img-content=\"drawing\" img-format=\"gif\" inline=\"no\" orientation=\"portrait\" wi=\"0900\"/></figure>\n",
      "<figure figure-labels=\"後視圖\"><img alt=\"\" file=\"img-2/draw/103306232-a0101-14-0004-4.jpg\" he=\"1494\" id=\"i0004\" img-content=\"drawing\" img-format=\"gif\" inline=\"no\" orientation=\"portrait\" wi=\"0900\"/></figure>\n",
      "<figure figure-labels=\"左側視圖\"><img alt=\"\" file=\"img-2/draw/103306232-a0101-14-0005-5.jpg\" he=\"0741\" id=\"i0005\" img-content=\"drawing\" img-format=\"gif\" inline=\"no\" orientation=\"portrait\" wi=\"0900\"/></figure>\n",
      "<figure figure-labels=\"右側視圖\"><img alt=\"\" file=\"img-2/draw/103306232-a0101-14-0006-6.jpg\" he=\"0715\" id=\"i0006\" img-content=\"drawing\" img-format=\"gif\" inline=\"no\" orientation=\"portrait\" wi=\"0900\"/></figure>\n",
      "<figure figure-labels=\"俯視圖\"><img alt=\"\" file=\"img-2/draw/103306232-a0101-14-0007-7.jpg\" he=\"1915\" id=\"i0007\" img-content=\"drawing\" img-format=\"gif\" inline=\"no\" orientation=\"portrait\" wi=\"0900\"/></figure>\n",
      "</drawings>\n",
      "</design-specification></body></html>\n"
     ]
    }
   ],
   "source": [
    "import re\n",
    "soup = bs(response_text)\n",
    "print soup"
   ]
  },
  {
   "cell_type": "code",
   "execution_count": 7,
   "metadata": {
    "collapsed": false
   },
   "outputs": [
    {
     "name": "stdout",
     "output_type": "stream",
     "text": [
      "機車\n",
      "本物品係機車。\n",
      "\n",
      "本設計係新穎獨特之樣式，藉由獨特地設計機車，可顯出先前技藝所未有之視覺效果。\n",
      "仰視圖為普通消費者於選購時或使用時不會注意之視面，故省略之。\n",
      "圖式所呈現之色彩屬本設計不主張之部分。\n",
      "\n",
      "\n"
     ]
    }
   ],
   "source": [
    "#print soup.find_all(re.compile('description'))\n",
    "print soup.find_all(re.compile('description'))[0].text"
   ]
  },
  {
   "cell_type": "code",
   "execution_count": 8,
   "metadata": {
    "collapsed": false
   },
   "outputs": [
    {
     "ename": "IndexError",
     "evalue": "list index out of range",
     "output_type": "error",
     "traceback": [
      "\u001b[1;31m---------------------------------------------------------------------------\u001b[0m",
      "\u001b[1;31mIndexError\u001b[0m                                Traceback (most recent call last)",
      "\u001b[1;32m<ipython-input-8-27815e1d2d4f>\u001b[0m in \u001b[0;36m<module>\u001b[1;34m()\u001b[0m\n\u001b[0;32m      4\u001b[0m \u001b[1;31m#print soup.find('description').find('p').text\u001b[0m\u001b[1;33m\u001b[0m\u001b[1;33m\u001b[0m\u001b[0m\n\u001b[0;32m      5\u001b[0m \u001b[1;31m#technical-field\u001b[0m\u001b[1;33m\u001b[0m\u001b[1;33m\u001b[0m\u001b[0m\n\u001b[1;32m----> 6\u001b[1;33m \u001b[1;32mprint\u001b[0m \u001b[0msoup\u001b[0m\u001b[1;33m.\u001b[0m\u001b[0mfind_all\u001b[0m\u001b[1;33m(\u001b[0m\u001b[1;34m'technical-field'\u001b[0m\u001b[1;33m)\u001b[0m\u001b[1;33m[\u001b[0m\u001b[1;36m0\u001b[0m\u001b[1;33m]\u001b[0m\u001b[1;33m.\u001b[0m\u001b[0mtext\u001b[0m\u001b[1;33m\u001b[0m\u001b[0m\n\u001b[0m",
      "\u001b[1;31mIndexError\u001b[0m: list index out of range"
     ]
    }
   ],
   "source": [
    "#六、\t發明說明：technical-field[發明之詳細說明]【發明所屬之技術領域】\n",
    "\n",
    "#print soup.find('description').find('p')\n",
    "#print soup.find('description').find('p').text\n",
    "#technical-field\n",
    "print soup.find_all('technical-field')[0].text\n"
   ]
  },
  {
   "cell_type": "code",
   "execution_count": null,
   "metadata": {
    "collapsed": true
   },
   "outputs": [],
   "source": []
  },
  {
   "cell_type": "code",
   "execution_count": null,
   "metadata": {
    "collapsed": true
   },
   "outputs": [],
   "source": []
  }
 ],
 "metadata": {
  "kernelspec": {
   "display_name": "Python 2",
   "language": "python",
   "name": "python2"
  },
  "language_info": {
   "codemirror_mode": {
    "name": "ipython",
    "version": 2
   },
   "file_extension": ".py",
   "mimetype": "text/x-python",
   "name": "python",
   "nbconvert_exporter": "python",
   "pygments_lexer": "ipython2",
   "version": "2.7.10"
  }
 },
 "nbformat": 4,
 "nbformat_minor": 0
}
