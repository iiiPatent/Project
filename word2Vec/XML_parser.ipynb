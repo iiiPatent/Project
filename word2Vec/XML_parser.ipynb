{
 "cells": [
  {
   "cell_type": "code",
   "execution_count": 4,
   "metadata": {
    "collapsed": false,
    "scrolled": true
   },
   "outputs": [
    {
     "name": "stdout",
     "output_type": "stream",
     "text": [
      "==============================================\n",
      "node.attrib:{'age': '18'}\n",
      "node.attrib['age']:18\n",
      "node.tag:person\n",
      "node.text:\n",
      "    \n",
      "==============================================\n",
      "node.attrib:{'age': '19', 'des': 'hello'}\n",
      "node.attrib['age']:19\n",
      "node.tag:person\n",
      "node.text:\n",
      "    \n",
      "==============================================\n",
      "node.attrib:{}\n",
      "node.tag:name\n",
      "node.text:hzj\n",
      "==============================================\n",
      "node.attrib:{'age': '18'}\n",
      "node.attrib['age']:18\n",
      "node.tag:person\n",
      "node.text:\n",
      "    \n",
      "==============================================\n",
      "node.attrib:{}\n",
      "node.tag:name\n",
      "node.text:kiki\n"
     ]
    }
   ],
   "source": [
    "#-*- coding:utf-8 -*-\n",
    "from xml.etree import ElementTree\n",
    "# f = open('E:/OneDrive/Project/patent/iiiedu/word2vec/test.xml', 'rb')\n",
    "# response_text = f.read()\n",
    "# f.close()\n",
    "\n",
    "\n",
    "def print_node(node):\n",
    "    '''打印结点基本信息'''\n",
    "    print \"==============================================\"\n",
    "    print \"node.attrib:%s\" % node.attrib\n",
    "    if node.attrib.has_key(\"age\") > 0 :\n",
    "        print \"node.attrib['age']:%s\" % node.attrib['age']\n",
    "    print \"node.tag:%s\" % node.tag\n",
    "    print \"node.text:%s\" % node.text\n",
    "# def read_xml(text):\n",
    "#     '''读xml文件'''\n",
    "#     # 加载XML文件（2种方法,一是加载指定字符串，二是加载指定文件）    \n",
    "#     root = ElementTree.fromstring(text)\n",
    "     \n",
    "#     # 获取element的方法\n",
    "#     # 1 通过getiterator \n",
    "#     lst_node = root.getiterator(\"person\")\n",
    "#     for node in lst_node:\n",
    "#         print_node(node)\n",
    "         \n",
    "#     # 2通过 getchildren\n",
    "#     lst_node_child = lst_node[0].getchildren()[0]\n",
    "#     print_node(lst_node_child)\n",
    "         \n",
    "#     # 3 .find方法\n",
    "#     node_find = root.find('person')\n",
    "#     print_node(node_find)\n",
    "     \n",
    "#     #4. findall方法\n",
    "#     node_findall = root.findall(\"person/name\")[1]\n",
    "#     print_node(node_findall)\n",
    "     \n",
    "if __name__ == '__main__':\n",
    "    read_xml(open(\"test.xml\").read())\n",
    "    #write_xml(open(\"test.xml\").read())"
   ]
  },
  {
   "cell_type": "code",
   "execution_count": 6,
   "metadata": {
    "collapsed": true
   },
   "outputs": [],
   "source": [
    "def print_node(node):\n",
    "    '''打印结点基本信息'''\n",
    "    print \"==============================================\"\n",
    "    print \"node.attrib:%s\" % node.attrib\n",
    "    if node.attrib.has_key(\"age\") > 0 :\n",
    "        print \"node.attrib['age']:%s\" % node.attrib['age']\n",
    "    print \"node.tag:%s\" % node.tag\n",
    "    print \"node.text:%s\" % node.text"
   ]
  },
  {
   "cell_type": "code",
   "execution_count": null,
   "metadata": {
    "collapsed": true
   },
   "outputs": [],
   "source": []
  }
 ],
 "metadata": {
  "kernelspec": {
   "display_name": "Python 2",
   "language": "python",
   "name": "python2"
  },
  "language_info": {
   "codemirror_mode": {
    "name": "ipython",
    "version": 2
   },
   "file_extension": ".py",
   "mimetype": "text/x-python",
   "name": "python",
   "nbconvert_exporter": "python",
   "pygments_lexer": "ipython2",
   "version": "2.7.10"
  }
 },
 "nbformat": 4,
 "nbformat_minor": 0
}
