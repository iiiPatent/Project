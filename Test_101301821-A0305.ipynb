{
 "cells": [
  {
   "cell_type": "code",
   "execution_count": 1,
   "metadata": {
    "collapsed": false,
    "scrolled": false
   },
   "outputs": [
    {
     "name": "stdout",
     "output_type": "stream",
     "text": [
      "<?xml version=\"1.0\" encoding=\"UTF-8\"?>\r\n",
      "<!DOCTYPE specification SYSTEM \"specification.dtd\">\r\n",
      "\r\n",
      "<specification application-num=\"101301821\" dtd-version=\"1.0.0\" lang=\"tw\" produced-by=\"applicant\" receive-date=\" \" receive-num=\"1012020032-0\" status=\"p\"><description><title lang=\"tw\">兒童椅</title>\r\n",
      "<main-use><p general=\"0001\" id=\"_0001\">本創作是一種供兒童使用的兒童椅。</p>\r\n",
      "</main-use>\r\n",
      "<disclosure><p general=\"0002\" id=\"_0002\">本創作的兒童椅，包含一前窄、後寬之梯形的座板、四分別設置於該底座之角隅且為上窄、下寬之截頭圓錐形的椅腳、四個分別套設在該等椅腳底端且略呈凸弧狀的腳墊蓋，及一設置於該底座後側緣且由下往上延伸時逐漸地向外傾斜的背板。如後視圖所示，該背板具有形成於下側緣之一拱形凹陷部，與分別形成於該凹陷部與左右側緣間之二縱向突肋。如仰視圖所示，該座板具有一形成於後側緣之拱形凹陷部，與二形成於底面並分別沿著二對角線延伸之長形肋條。藉由整體的形狀配合，可以讓整個兒童椅的外觀展現出極富童趣的視覺效果。</p>\r\n",
      "<p general=\"0003\" id=\"_0003\">以上說明僅供輔助瞭解本創作而非用以限制其內容；理應瞭解，新式樣專利範圍是以圖面所示者為準。</p>\r\n",
      "</disclosure>\r\n",
      "</description>\r\n",
      "<drawings lang=\"\"><figure figure-labels=\"立體圖(代表圖)\"><img file=\"IMG-2/Draw/101301821-A0101-03-0001-PIC0000.JPG\" he=\"1363\" id=\"i0001\" img-content=\"drawing\" img-format=\"jpg\" inline=\"no\" orientation=\"portrait\" wi=\"1108\"/></figure>\r\n",
      "<figure figure-labels=\"前視圖 \"><img file=\"IMG-2/Draw/101301821-A0101-03-0002-PIC0000.JPG\" he=\"1268\" id=\"i0002\" img-content=\"drawing\" img-format=\"jpg\" inline=\"no\" orientation=\"portrait\" wi=\"837\"/></figure>\r\n",
      "<figure figure-labels=\"後視圖 \"><img file=\"IMG-2/Draw/101301821-A0101-03-0002-PIC0001.JPG\" he=\"1268\" id=\"i0003\" img-content=\"drawing\" img-format=\"jpg\" inline=\"no\" orientation=\"portrait\" wi=\"892\"/></figure>\r\n",
      "<figure figure-labels=\"左側視圖 \"><img file=\"IMG-2/Draw/101301821-A0101-03-0003-PIC0000.JPG\" he=\"1293\" id=\"i0004\" img-content=\"drawing\" img-format=\"jpg\" inline=\"no\" orientation=\"portrait\" wi=\"790\"/></figure>\r\n",
      "<figure figure-labels=\"右側視圖 \"><img file=\"IMG-2/Draw/101301821-A0101-03-0003-PIC0001.JPG\" he=\"1242\" id=\"i0005\" img-content=\"drawing\" img-format=\"jpg\" inline=\"no\" orientation=\"portrait\" wi=\"829\"/></figure>\r\n",
      "<figure figure-labels=\"俯視圖 \"><img file=\"IMG-2/Draw/101301821-A0101-03-0004-PIC0000.JPG\" he=\"1085\" id=\"i0006\" img-content=\"drawing\" img-format=\"jpg\" inline=\"no\" orientation=\"portrait\" wi=\"771\"/></figure>\r\n",
      "<figure figure-labels=\"仰視圖 \"><img file=\"IMG-2/Draw/101301821-A0101-03-0004-PIC0001.JPG\" he=\"1144\" id=\"i0007\" img-content=\"drawing\" img-format=\"jpg\" inline=\"no\" orientation=\"portrait\" wi=\"961\"/></figure>\r\n",
      "</drawings>\r\n",
      "</specification>\n"
     ]
    }
   ],
   "source": [
    "#From data file import *.xml and paser  \n",
    "\n",
    "import requests\n",
    "import os\n",
    "import sys\n",
    "#sys.path.append('../')\n",
    "\n",
    "import jieba\n",
    "import jieba.analyse\n",
    "from optparse import OptionParser\n",
    "import operator\n",
    "from bs4 import BeautifulSoup as bs\n",
    "f = open('./101301821-A0305.xml', 'rb')\n",
    "response_text = f.read()\n",
    "f.close()\n",
    "\n",
    "print response_text\n",
    "\n"
   ]
  },
  {
   "cell_type": "code",
   "execution_count": 4,
   "metadata": {
    "collapsed": false,
    "scrolled": true
   },
   "outputs": [
    {
     "name": "stdout",
     "output_type": "stream",
     "text": [
      "兒童椅\n",
      "本創作是一種供兒童使用的兒童椅。\n",
      "\n",
      "本創作的兒童椅，包含一前窄、後寬之梯形的座板、四分別設置於該底座之角隅且為上窄、下寬之截頭圓錐形的椅腳、四個分別套設在該等椅腳底端且略呈凸弧狀的腳墊蓋，及一設置於該底座後側緣且由下往上延伸時逐漸地向外傾斜的背板。如後視圖所示，該背板具有形成於下側緣之一拱形凹陷部，與分別形成於該凹陷部與左右側緣間之二縱向突肋。如仰視圖所示，該座板具有一形成於後側緣之拱形凹陷部，與二形成於底面並分別沿著二對角線延伸之長形肋條。藉由整體的形狀配合，可以讓整個兒童椅的外觀展現出極富童趣的視覺效果。\n",
      "以上說明僅供輔助瞭解本創作而非用以限制其內容；理應瞭解，新式樣專利範圍是以圖面所示者為準。\n",
      "\n",
      "\n",
      "\n",
      "\n",
      "\n",
      "\n",
      "\n",
      "\n",
      "\n",
      "\n",
      "\n"
     ]
    }
   ],
   "source": [
    "import re\n",
    "soup = bs(response_text)\n",
    "#print soup\n",
    "print soup.text"
   ]
  },
  {
   "cell_type": "code",
   "execution_count": null,
   "metadata": {
    "collapsed": true
   },
   "outputs": [],
   "source": []
  }
 ],
 "metadata": {
  "kernelspec": {
   "display_name": "Python 2",
   "language": "python",
   "name": "python2"
  },
  "language_info": {
   "codemirror_mode": {
    "name": "ipython",
    "version": 2
   },
   "file_extension": ".py",
   "mimetype": "text/x-python",
   "name": "python",
   "nbconvert_exporter": "python",
   "pygments_lexer": "ipython2",
   "version": "2.7.10"
  }
 },
 "nbformat": 4,
 "nbformat_minor": 0
}
